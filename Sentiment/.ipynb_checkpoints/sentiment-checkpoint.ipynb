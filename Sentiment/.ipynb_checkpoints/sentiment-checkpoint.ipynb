{
 "cells": [
  {
   "cell_type": "code",
   "execution_count": 5,
   "id": "fb359728-3542-4f9b-9bfe-9f60fb3b4969",
   "metadata": {},
   "outputs": [
    {
     "name": "stdout",
     "output_type": "stream",
     "text": [
      "Channels:\n",
      " - pytorch\n",
      " - nvidia\n",
      " - defaults\n",
      "Platform: win-64\n",
      "Collecting package metadata (repodata.json): ...working... done\n",
      "Solving environment: ...working... done\n",
      "\n",
      "## Package Plan ##\n",
      "\n",
      "  environment location: C:\\Users\\goodt\\anaconda3\n",
      "\n",
      "  added / updated specs:\n",
      "    - pytorch\n",
      "    - pytorch-cuda=11.8\n",
      "    - torchaudio\n",
      "    - torchvision\n",
      "\n",
      "\n",
      "The following packages will be downloaded:\n",
      "\n",
      "    package                    |            build\n",
      "    ---------------------------|-----------------\n",
      "    cuda-cccl-12.3.101         |                0         1.4 MB  nvidia\n",
      "    cuda-cudart-11.8.89        |                0         1.4 MB  nvidia\n",
      "    cuda-cudart-dev-11.8.89    |                0         723 KB  nvidia\n",
      "    cuda-cupti-11.8.87         |                0        11.5 MB  nvidia\n",
      "    cuda-libraries-11.8.0      |                0           1 KB  nvidia\n",
      "    cuda-libraries-dev-11.8.0  |                0           1 KB  nvidia\n",
      "    cuda-nvrtc-11.8.89         |                0        72.1 MB  nvidia\n",
      "    cuda-nvrtc-dev-11.8.89     |                0        16.1 MB  nvidia\n",
      "    cuda-nvtx-11.8.86          |                0          43 KB  nvidia\n",
      "    cuda-profiler-api-12.3.101 |                0          19 KB  nvidia\n",
      "    cuda-runtime-11.8.0        |                0           1 KB  nvidia\n",
      "    libcublas-11.11.3.6        |                0          33 KB  nvidia\n",
      "    libcublas-dev-11.11.3.6    |                0       375.9 MB  nvidia\n",
      "    libcufft-10.9.0.58         |                0           6 KB  nvidia\n",
      "    libcufft-dev-10.9.0.58     |                0       144.6 MB  nvidia\n",
      "    libcurand-10.3.4.101       |                0           3 KB  nvidia\n",
      "    libcurand-dev-10.3.4.101   |                0        49.8 MB  nvidia\n",
      "    libcusolver-11.4.1.48      |                0          29 KB  nvidia\n",
      "    libcusolver-dev-11.4.1.48  |                0        94.1 MB  nvidia\n",
      "    libcusparse-11.7.5.86      |                0          13 KB  nvidia\n",
      "    libcusparse-dev-11.7.5.86  |                0       175.7 MB  nvidia\n",
      "    libjpeg-turbo-2.0.0        |       h196d8e1_0         618 KB\n",
      "    libnpp-11.8.0.86           |                0         294 KB  nvidia\n",
      "    libnpp-dev-11.8.0.86       |                0       143.2 MB  nvidia\n",
      "    libnvjpeg-11.9.0.86        |                0           4 KB  nvidia\n",
      "    libnvjpeg-dev-11.9.0.86    |                0         1.9 MB  nvidia\n",
      "    libuv-1.44.2               |       h2bbff1b_0         288 KB\n",
      "    pytorch-2.1.2              |py3.11_cuda11.8_cudnn8_0        1.43 GB  pytorch\n",
      "    pytorch-cuda-11.8          |       h24eeafa_5           4 KB  pytorch\n",
      "    pytorch-mutex-1.0          |             cuda           3 KB  pytorch\n",
      "    torchaudio-2.1.2           |      py311_cu118         7.0 MB  pytorch\n",
      "    torchvision-0.16.2         |      py311_cu118         7.9 MB  pytorch\n",
      "    ------------------------------------------------------------\n",
      "                                           Total:        2.51 GB\n",
      "\n",
      "The following NEW packages will be INSTALLED:\n",
      "\n",
      "  cuda-cccl          nvidia/win-64::cuda-cccl-12.3.101-0 \n",
      "  cuda-cudart        nvidia/win-64::cuda-cudart-11.8.89-0 \n",
      "  cuda-cudart-dev    nvidia/win-64::cuda-cudart-dev-11.8.89-0 \n",
      "  cuda-cupti         nvidia/win-64::cuda-cupti-11.8.87-0 \n",
      "  cuda-libraries     nvidia/win-64::cuda-libraries-11.8.0-0 \n",
      "  cuda-libraries-dev nvidia/win-64::cuda-libraries-dev-11.8.0-0 \n",
      "  cuda-nvrtc         nvidia/win-64::cuda-nvrtc-11.8.89-0 \n",
      "  cuda-nvrtc-dev     nvidia/win-64::cuda-nvrtc-dev-11.8.89-0 \n",
      "  cuda-nvtx          nvidia/win-64::cuda-nvtx-11.8.86-0 \n",
      "  cuda-profiler-api  nvidia/win-64::cuda-profiler-api-12.3.101-0 \n",
      "  cuda-runtime       nvidia/win-64::cuda-runtime-11.8.0-0 \n",
      "  libcublas          nvidia/win-64::libcublas-11.11.3.6-0 \n",
      "  libcublas-dev      nvidia/win-64::libcublas-dev-11.11.3.6-0 \n",
      "  libcufft           nvidia/win-64::libcufft-10.9.0.58-0 \n",
      "  libcufft-dev       nvidia/win-64::libcufft-dev-10.9.0.58-0 \n",
      "  libcurand          nvidia/win-64::libcurand-10.3.4.101-0 \n",
      "  libcurand-dev      nvidia/win-64::libcurand-dev-10.3.4.101-0 \n",
      "  libcusolver        nvidia/win-64::libcusolver-11.4.1.48-0 \n",
      "  libcusolver-dev    nvidia/win-64::libcusolver-dev-11.4.1.48-0 \n",
      "  libcusparse        nvidia/win-64::libcusparse-11.7.5.86-0 \n",
      "  libcusparse-dev    nvidia/win-64::libcusparse-dev-11.7.5.86-0 \n",
      "  libjpeg-turbo      pkgs/main/win-64::libjpeg-turbo-2.0.0-h196d8e1_0 \n",
      "  libnpp             nvidia/win-64::libnpp-11.8.0.86-0 \n",
      "  libnpp-dev         nvidia/win-64::libnpp-dev-11.8.0.86-0 \n",
      "  libnvjpeg          nvidia/win-64::libnvjpeg-11.9.0.86-0 \n",
      "  libnvjpeg-dev      nvidia/win-64::libnvjpeg-dev-11.9.0.86-0 \n",
      "  libuv              pkgs/main/win-64::libuv-1.44.2-h2bbff1b_0 \n",
      "  pytorch            pytorch/win-64::pytorch-2.1.2-py3.11_cuda11.8_cudnn8_0 \n",
      "  pytorch-cuda       pytorch/win-64::pytorch-cuda-11.8-h24eeafa_5 \n",
      "  pytorch-mutex      pytorch/noarch::pytorch-mutex-1.0-cuda \n",
      "  torchaudio         pytorch/win-64::torchaudio-2.1.2-py311_cu118 \n",
      "  torchvision        pytorch/win-64::torchvision-0.16.2-py311_cu118 \n",
      "\n",
      "\n",
      "\n",
      "Downloading and Extracting Packages: ...working... done\n"
     ]
    },
    {
     "name": "stderr",
     "output_type": "stream",
     "text": [
      "Retrying (Retry(total=2, connect=None, read=None, redirect=None, status=None)) after connection broken by 'ReadTimeoutError(\"HTTPSConnectionPool(host='repo.anaconda.com', port=443): Read timed out. (read timeout=9.15)\")': /pkgs/main/win-64/repodata.json\n",
      "\n",
      "Retrying (Retry(total=2, connect=None, read=None, redirect=None, status=None)) after connection broken by 'ReadTimeoutError(\"HTTPSConnectionPool(host='repo.anaconda.com', port=443): Read timed out. (read timeout=9.15)\")': /pkgs/main/noarch/repodata.json\n",
      "\n",
      "Retrying (Retry(total=2, connect=None, read=None, redirect=None, status=None)) after connection broken by 'ReadTimeoutError(\"HTTPSConnectionPool(host='repo.anaconda.com', port=443): Read timed out. (read timeout=9.15)\")': /pkgs/msys2/win-64/repodata.json\n",
      "\n",
      "Retrying (Retry(total=2, connect=None, read=None, redirect=None, status=None)) after connection broken by 'ReadTimeoutError(\"HTTPSConnectionPool(host='repo.anaconda.com', port=443): Read timed out. (read timeout=9.15)\")': /pkgs/r/noarch/repodata.json\n",
      "\n",
      "Retrying (Retry(total=2, connect=None, read=None, redirect=None, status=None)) after connection broken by 'ReadTimeoutError(\"HTTPSConnectionPool(host='repo.anaconda.com', port=443): Read timed out. (read timeout=9.15)\")': /pkgs/msys2/noarch/repodata.json\n",
      "\n",
      "Retrying (Retry(total=2, connect=None, read=None, redirect=None, status=None)) after connection broken by 'ReadTimeoutError(\"HTTPSConnectionPool(host='conda.anaconda.org', port=443): Read timed out. (read timeout=9.15)\")': /nvidia/win-64/libcusolver-dev-11.4.1.48-0.tar.bz2\n",
      "\n",
      "Retrying (Retry(total=2, connect=None, read=None, redirect=None, status=None)) after connection broken by 'ReadTimeoutError(\"HTTPSConnectionPool(host='conda.anaconda.org', port=443): Read timed out. (read timeout=9.15)\")': /nvidia/win-64/cuda-nvrtc-dev-11.8.89-0.tar.bz2\n",
      "\n",
      "Retrying (Retry(total=2, connect=None, read=None, redirect=None, status=None)) after connection broken by 'ReadTimeoutError(\"HTTPSConnectionPool(host='conda.anaconda.org', port=443): Read timed out. (read timeout=9.15)\")': /nvidia/win-64/libnvjpeg-dev-11.9.0.86-0.tar.bz2\n",
      "\n",
      "Retrying (Retry(total=1, connect=None, read=None, redirect=None, status=None)) after connection broken by 'ReadTimeoutError(\"HTTPSConnectionPool(host='conda.anaconda.org', port=443): Read timed out. (read timeout=9.15)\")': /nvidia/win-64/cuda-nvrtc-dev-11.8.89-0.tar.bz2\n",
      "\n",
      "Retrying (Retry(total=1, connect=None, read=None, redirect=None, status=None)) after connection broken by 'ReadTimeoutError(\"HTTPSConnectionPool(host='conda.anaconda.org', port=443): Read timed out. (read timeout=9.15)\")': /nvidia/win-64/libnvjpeg-dev-11.9.0.86-0.tar.bz2\n",
      "\n",
      "Retrying (Retry(total=1, connect=None, read=None, redirect=None, status=None)) after connection broken by 'ReadTimeoutError(\"HTTPSConnectionPool(host='conda.anaconda.org', port=443): Read timed out. (read timeout=9.15)\")': /nvidia/win-64/libcusolver-dev-11.4.1.48-0.tar.bz2\n",
      "\n",
      "Retrying (Retry(total=0, connect=None, read=None, redirect=None, status=None)) after connection broken by 'ProtocolError('Connection aborted.', RemoteDisconnected('Remote end closed connection without response'))': /nvidia/win-64/cuda-nvrtc-dev-11.8.89-0.tar.bz2\n",
      "\n",
      "\n",
      "[Errno 36] Resource deadlock avoided\n",
      "[Errno 36] Resource deadlock avoided\n",
      "[Errno 36] Resource deadlock avoided\n",
      "[Errno 36] Resource deadlock avoided\n",
      "[Errno 36] Resource deadlock avoided\n",
      "[Errno 36] Resource deadlock avoided\n",
      "CondaHTTPError: HTTP 000 CONNECTION FAILED for url <https://conda.anaconda.org/nvidia/win-64/cuda-nvrtc-dev-11.8.89-0.tar.bz2>\n",
      "Elapsed: -\n",
      "\n",
      "An HTTP error occurred when trying to retrieve this URL.\n",
      "HTTP errors are often intermittent, and a simple retry will get you on your way.\n",
      "\n",
      "\n"
     ]
    },
    {
     "name": "stdout",
     "output_type": "stream",
     "text": [
      "Looking in indexes: https://download.pytorch.org/whl/cu118\n",
      "Collecting torch\n"
     ]
    },
    {
     "name": "stderr",
     "output_type": "stream",
     "text": [
      "  WARNING: Retrying (Retry(total=4, connect=None, read=None, redirect=None, status=None)) after connection broken by 'ReadTimeoutError(\"HTTPSConnectionPool(host='download.pytorch.org', port=443): Read timed out. (read timeout=15)\")': /whl/cu118/torch-2.1.2%2Bcu118-cp311-cp311-win_amd64.whl\n",
      "  WARNING: Retrying (Retry(total=3, connect=None, read=None, redirect=None, status=None)) after connection broken by 'ReadTimeoutError(\"HTTPSConnectionPool(host='download.pytorch.org', port=443): Read timed out. (read timeout=15)\")': /whl/cu118/torch-2.1.2%2Bcu118-cp311-cp311-win_amd64.whl\n",
      "  WARNING: Retrying (Retry(total=2, connect=None, read=None, redirect=None, status=None)) after connection broken by 'ReadTimeoutError(\"HTTPSConnectionPool(host='download.pytorch.org', port=443): Read timed out. (read timeout=15)\")': /whl/cu118/torch-2.1.2%2Bcu118-cp311-cp311-win_amd64.whl\n",
      "  WARNING: Retrying (Retry(total=1, connect=None, read=None, redirect=None, status=None)) after connection broken by 'ReadTimeoutError(\"HTTPSConnectionPool(host='download.pytorch.org', port=443): Read timed out. (read timeout=15)\")': /whl/cu118/torch-2.1.2%2Bcu118-cp311-cp311-win_amd64.whl\n",
      "  WARNING: Retrying (Retry(total=0, connect=None, read=None, redirect=None, status=None)) after connection broken by 'NewConnectionError('<pip._vendor.urllib3.connection.HTTPSConnection object at 0x0000017E5E887E90>: Failed to establish a new connection: [Errno 11001] getaddrinfo failed')': /whl/cu118/torch-2.1.2%2Bcu118-cp311-cp311-win_amd64.whl\n",
      "ERROR: Could not install packages due to an OSError: HTTPSConnectionPool(host='download.pytorch.org', port=443): Max retries exceeded with url: /whl/cu118/torch-2.1.2%2Bcu118-cp311-cp311-win_amd64.whl (Caused by NewConnectionError('<pip._vendor.urllib3.connection.HTTPSConnection object at 0x0000017E5E8A0710>: Failed to establish a new connection: [Errno 11001] getaddrinfo failed'))\n",
      "\n"
     ]
    },
    {
     "name": "stdout",
     "output_type": "stream",
     "text": [
      "^C\n"
     ]
    }
   ],
   "source": [
    "!pip install torch torchvision torchaudio --index-url https://download.pytorch.org/whl/cu118"
   ]
  },
  {
   "cell_type": "code",
   "execution_count": 6,
   "id": "c6b6d7e0-9489-4bfa-ab60-fc9fc99a7c4b",
   "metadata": {},
   "outputs": [
    {
     "name": "stdout",
     "output_type": "stream",
     "text": [
      "Hello\n"
     ]
    }
   ],
   "source": [
    "print(\"Hello\")"
   ]
  },
  {
   "cell_type": "code",
   "execution_count": 5,
   "id": "3e48328a-05b7-4c0a-bb57-349dfaec2178",
   "metadata": {},
   "outputs": [
    {
     "name": "stdout",
     "output_type": "stream",
     "text": [
      "Looking in indexes: https://download.pytorch.org/whl/cu118\n",
      "Requirement already satisfied: torch in c:\\users\\goodt\\anaconda3\\envs\\sentiment\\lib\\site-packages (2.1.2)\n",
      "Requirement already satisfied: torchvision in c:\\users\\goodt\\anaconda3\\envs\\sentiment\\lib\\site-packages (0.16.2)\n",
      "Requirement already satisfied: torchaudio in c:\\users\\goodt\\anaconda3\\envs\\sentiment\\lib\\site-packages (2.1.2)\n",
      "Requirement already satisfied: filelock in c:\\users\\goodt\\anaconda3\\envs\\sentiment\\lib\\site-packages (from torch) (3.13.1)\n",
      "Requirement already satisfied: typing-extensions in c:\\users\\goodt\\anaconda3\\envs\\sentiment\\lib\\site-packages (from torch) (4.7.1)\n",
      "Requirement already satisfied: sympy in c:\\users\\goodt\\anaconda3\\envs\\sentiment\\lib\\site-packages (from torch) (1.12)\n",
      "Requirement already satisfied: networkx in c:\\users\\goodt\\anaconda3\\envs\\sentiment\\lib\\site-packages (from torch) (3.1)\n",
      "Requirement already satisfied: jinja2 in c:\\users\\goodt\\anaconda3\\envs\\sentiment\\lib\\site-packages (from torch) (3.1.2)\n",
      "Requirement already satisfied: fsspec in c:\\users\\goodt\\anaconda3\\envs\\sentiment\\lib\\site-packages (from torch) (2023.12.2)\n",
      "Requirement already satisfied: numpy in c:\\users\\goodt\\anaconda3\\envs\\sentiment\\lib\\site-packages (from torchvision) (1.26.2)\n",
      "Requirement already satisfied: requests in c:\\users\\goodt\\anaconda3\\envs\\sentiment\\lib\\site-packages (from torchvision) (2.31.0)\n",
      "Requirement already satisfied: pillow!=8.3.*,>=5.3.0 in c:\\users\\goodt\\anaconda3\\envs\\sentiment\\lib\\site-packages (from torchvision) (10.0.1)\n",
      "Requirement already satisfied: MarkupSafe>=2.0 in c:\\users\\goodt\\anaconda3\\envs\\sentiment\\lib\\site-packages (from jinja2->torch) (2.1.1)\n",
      "Requirement already satisfied: charset-normalizer<4,>=2 in c:\\users\\goodt\\anaconda3\\envs\\sentiment\\lib\\site-packages (from requests->torchvision) (2.0.4)\n",
      "Requirement already satisfied: idna<4,>=2.5 in c:\\users\\goodt\\anaconda3\\envs\\sentiment\\lib\\site-packages (from requests->torchvision) (3.4)\n",
      "Requirement already satisfied: urllib3<3,>=1.21.1 in c:\\users\\goodt\\anaconda3\\envs\\sentiment\\lib\\site-packages (from requests->torchvision) (1.26.18)\n",
      "Requirement already satisfied: certifi>=2017.4.17 in c:\\users\\goodt\\anaconda3\\envs\\sentiment\\lib\\site-packages (from requests->torchvision) (2023.11.17)\n",
      "Requirement already satisfied: mpmath>=0.19 in c:\\users\\goodt\\anaconda3\\envs\\sentiment\\lib\\site-packages (from sympy->torch) (1.3.0)\n"
     ]
    }
   ],
   "source": [
    "!pip install torch torchvision torchaudio --index-url https://download.pytorch.org/whl/cu118"
   ]
  },
  {
   "cell_type": "code",
   "execution_count": 6,
   "id": "338c41d6-3a69-4f3e-9ade-565a02f4cec7",
   "metadata": {},
   "outputs": [
    {
     "name": "stdout",
     "output_type": "stream",
     "text": [
      "Requirement already satisfied: transformers in c:\\users\\goodt\\anaconda3\\envs\\sentiment\\lib\\site-packages (4.36.2)\n",
      "Requirement already satisfied: requests in c:\\users\\goodt\\anaconda3\\envs\\sentiment\\lib\\site-packages (2.31.0)\n",
      "Requirement already satisfied: beautifulsoup4 in c:\\users\\goodt\\anaconda3\\envs\\sentiment\\lib\\site-packages (4.12.2)\n",
      "Requirement already satisfied: pandas in c:\\users\\goodt\\anaconda3\\envs\\sentiment\\lib\\site-packages (2.1.4)\n",
      "Requirement already satisfied: numpy in c:\\users\\goodt\\anaconda3\\envs\\sentiment\\lib\\site-packages (1.26.2)\n",
      "Requirement already satisfied: filelock in c:\\users\\goodt\\anaconda3\\envs\\sentiment\\lib\\site-packages (from transformers) (3.13.1)\n",
      "Requirement already satisfied: huggingface-hub<1.0,>=0.19.3 in c:\\users\\goodt\\anaconda3\\envs\\sentiment\\lib\\site-packages (from transformers) (0.20.1)\n",
      "Requirement already satisfied: packaging>=20.0 in c:\\users\\goodt\\anaconda3\\envs\\sentiment\\lib\\site-packages (from transformers) (23.2)\n",
      "Requirement already satisfied: pyyaml>=5.1 in c:\\users\\goodt\\anaconda3\\envs\\sentiment\\lib\\site-packages (from transformers) (6.0.1)\n",
      "Requirement already satisfied: regex!=2019.12.17 in c:\\users\\goodt\\anaconda3\\envs\\sentiment\\lib\\site-packages (from transformers) (2023.12.25)\n",
      "Requirement already satisfied: tokenizers<0.19,>=0.14 in c:\\users\\goodt\\anaconda3\\envs\\sentiment\\lib\\site-packages (from transformers) (0.15.0)\n",
      "Requirement already satisfied: safetensors>=0.3.1 in c:\\users\\goodt\\anaconda3\\envs\\sentiment\\lib\\site-packages (from transformers) (0.4.1)\n",
      "Requirement already satisfied: tqdm>=4.27 in c:\\users\\goodt\\anaconda3\\envs\\sentiment\\lib\\site-packages (from transformers) (4.66.1)\n",
      "Requirement already satisfied: charset-normalizer<4,>=2 in c:\\users\\goodt\\anaconda3\\envs\\sentiment\\lib\\site-packages (from requests) (2.0.4)\n",
      "Requirement already satisfied: idna<4,>=2.5 in c:\\users\\goodt\\anaconda3\\envs\\sentiment\\lib\\site-packages (from requests) (3.4)\n",
      "Requirement already satisfied: urllib3<3,>=1.21.1 in c:\\users\\goodt\\anaconda3\\envs\\sentiment\\lib\\site-packages (from requests) (1.26.18)\n",
      "Requirement already satisfied: certifi>=2017.4.17 in c:\\users\\goodt\\anaconda3\\envs\\sentiment\\lib\\site-packages (from requests) (2023.11.17)\n",
      "Requirement already satisfied: soupsieve>1.2 in c:\\users\\goodt\\anaconda3\\envs\\sentiment\\lib\\site-packages (from beautifulsoup4) (2.5)\n",
      "Requirement already satisfied: python-dateutil>=2.8.2 in c:\\users\\goodt\\anaconda3\\envs\\sentiment\\lib\\site-packages (from pandas) (2.8.2)\n",
      "Requirement already satisfied: pytz>=2020.1 in c:\\users\\goodt\\anaconda3\\envs\\sentiment\\lib\\site-packages (from pandas) (2023.3.post1)\n",
      "Requirement already satisfied: tzdata>=2022.1 in c:\\users\\goodt\\anaconda3\\envs\\sentiment\\lib\\site-packages (from pandas) (2023.4)\n",
      "Requirement already satisfied: fsspec>=2023.5.0 in c:\\users\\goodt\\anaconda3\\envs\\sentiment\\lib\\site-packages (from huggingface-hub<1.0,>=0.19.3->transformers) (2023.12.2)\n",
      "Requirement already satisfied: typing-extensions>=3.7.4.3 in c:\\users\\goodt\\anaconda3\\envs\\sentiment\\lib\\site-packages (from huggingface-hub<1.0,>=0.19.3->transformers) (4.7.1)\n",
      "Requirement already satisfied: six>=1.5 in c:\\users\\goodt\\anaconda3\\envs\\sentiment\\lib\\site-packages (from python-dateutil>=2.8.2->pandas) (1.16.0)\n",
      "Requirement already satisfied: colorama in c:\\users\\goodt\\anaconda3\\envs\\sentiment\\lib\\site-packages (from tqdm>=4.27->transformers) (0.4.6)\n"
     ]
    }
   ],
   "source": [
    "!pip install transformers requests beautifulsoup4 pandas numpy"
   ]
  },
  {
   "cell_type": "code",
   "execution_count": 9,
   "id": "bc095aba-f46e-49dc-9eea-688eca81e287",
   "metadata": {},
   "outputs": [
    {
     "ename": "ModuleNotFoundError",
     "evalue": "No module named 'torch'",
     "output_type": "error",
     "traceback": [
      "\u001b[1;31m---------------------------------------------------------------------------\u001b[0m",
      "\u001b[1;31mModuleNotFoundError\u001b[0m                       Traceback (most recent call last)",
      "Cell \u001b[1;32mIn[9], line 2\u001b[0m\n\u001b[0;32m      1\u001b[0m \u001b[38;5;28;01mfrom\u001b[39;00m \u001b[38;5;21;01mtransformers\u001b[39;00m \u001b[38;5;28;01mimport\u001b[39;00m AutoTokenizer,AutoModelForSequenceClassification\n\u001b[1;32m----> 2\u001b[0m \u001b[38;5;28;01mimport\u001b[39;00m \u001b[38;5;21;01mtorch\u001b[39;00m\n\u001b[0;32m      3\u001b[0m \u001b[38;5;28;01mimport\u001b[39;00m \u001b[38;5;21;01mrequests\u001b[39;00m\n\u001b[0;32m      4\u001b[0m \u001b[38;5;28;01mfrom\u001b[39;00m \u001b[38;5;21;01mbs4\u001b[39;00m \u001b[38;5;28;01mimport\u001b[39;00m BeautifulSoup\n",
      "\u001b[1;31mModuleNotFoundError\u001b[0m: No module named 'torch'"
     ]
    }
   ],
   "source": [
    "from transformers import AutoTokenizer,AutoModelForSequenceClassification\n",
    "import torch\n",
    "import requests\n",
    "from bs4 import BeautifulSoup\n",
    "import re"
   ]
  },
  {
   "cell_type": "code",
   "execution_count": 8,
   "id": "748c4a04-1707-43f8-9a5e-b94cb2c6c2a1",
   "metadata": {},
   "outputs": [
    {
     "ename": "SyntaxError",
     "evalue": "invalid syntax (609037931.py, line 1)",
     "output_type": "error",
     "traceback": [
      "\u001b[1;36m  Cell \u001b[1;32mIn[8], line 1\u001b[1;36m\u001b[0m\n\u001b[1;33m    python -c \"import torch; print(torch.__version__)\"\u001b[0m\n\u001b[1;37m              ^\u001b[0m\n\u001b[1;31mSyntaxError\u001b[0m\u001b[1;31m:\u001b[0m invalid syntax\n"
     ]
    }
   ],
   "source": []
  },
  {
   "cell_type": "code",
   "execution_count": null,
   "id": "5fb5f598-b62d-4ccf-bac2-1f5a995b73cb",
   "metadata": {},
   "outputs": [],
   "source": []
  }
 ],
 "metadata": {
  "kernelspec": {
   "display_name": "Python 3 (ipykernel)",
   "language": "python",
   "name": "python3"
  },
  "language_info": {
   "codemirror_mode": {
    "name": "ipython",
    "version": 3
   },
   "file_extension": ".py",
   "mimetype": "text/x-python",
   "name": "python",
   "nbconvert_exporter": "python",
   "pygments_lexer": "ipython3",
   "version": "3.11.5"
  }
 },
 "nbformat": 4,
 "nbformat_minor": 5
}
